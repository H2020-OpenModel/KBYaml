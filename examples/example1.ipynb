{
 "cells": [
  {
   "cell_type": "markdown",
   "id": "0c07d49f-0b34-442c-b75c-c970c1a48c47",
   "metadata": {},
   "source": [
    "# Storing data as YAML in the KB"
   ]
  },
  {
   "cell_type": "markdown",
   "id": "fb75f51b-6130-413f-a336-c70cd2b22862",
   "metadata": {},
   "source": [
    "Here we consider the scenario where we have data to parse into an ExecFlow workflow. We want to store this data in the knowledgebase (KB) of OpenModel and retreive it before running ExecFlow. This will work on the OpenModel platform or from local machine prpvoding you've set up OMIKBToolbox correctly, see docs: https://github.com/H2020-OpenModel/OMIKB-toolbox. "
   ]
  },
  {
   "cell_type": "markdown",
   "id": "90d2ca2e-bcf2-4009-af3e-d88fce598d26",
   "metadata": {},
   "source": [
    "Here we consider an ExecFlow calculation using DFT with QuantumEspresso as part of SS1. \n",
    "We have data stored in data0.yaml, and we want to push this to the OpenModel knowledgebase. \n",
    "We do it like so: "
   ]
  },
  {
   "cell_type": "code",
   "execution_count": 1,
   "id": "e6331085-e6ff-45c8-b4a5-f02d6751e565",
   "metadata": {},
   "outputs": [
    {
     "name": "stdout",
     "output_type": "stream",
     "text": [
      "RDF data serialized to data.ttl\n"
     ]
    }
   ],
   "source": [
    "from kbyaml.kbyaml import yaml2rdf\n",
    "\n",
    "yaml2rdf(\"data01.yaml\", \"data.ttl\")"
   ]
  },
  {
   "cell_type": "markdown",
   "id": "9b421465-5f23-4548-ba2d-38626f7a7368",
   "metadata": {},
   "source": [
    "This will convert the data01.yaml file as an RDF object and save it as data.ttl. "
   ]
  },
  {
   "cell_type": "markdown",
   "id": "51d9fa25-1180-4b72-8577-b6287b87bf6b",
   "metadata": {},
   "source": [
    "We now want to push this ontology to the KB, like this:  "
   ]
  },
  {
   "cell_type": "code",
   "execution_count": 3,
   "id": "5f073295-eb0b-476e-8ebc-0ee6155e8835",
   "metadata": {},
   "outputs": [
    {
     "name": "stdout",
     "output_type": "stream",
     "text": [
      "token= c04707e0c3fd476a893bbcc3e7fff64a\n",
      "hub user name is owainbeynon\n",
      "Hello owainbeynon: Your access token is obtained: (Showing last 10 digits only) YhJArZfXWw\n",
      "Initialised Knowledge Base and OMI access from the jupyter interface for the user:\n",
      "{\n",
      "  \"sub\": \"c71348a7-d9c8-45ab-8021-74dcda578558\",\n",
      "  \"email_verified\": false,\n",
      "  \"name\": \"Owain Beynon\",\n",
      "  \"preferred_username\": \"owainbeynon\",\n",
      "  \"given_name\": \"Owain\",\n",
      "  \"family_name\": \"Beynon\",\n",
      "  \"email\": \"o.beynon@ucl.ac.uk\"\n",
      "}\n",
      "None\n",
      "Successfully added 9 triplets to the dataspace default in the knowledge base.\n"
     ]
    },
    {
     "data": {
      "text/plain": [
       "<Response [200]>"
      ]
     },
     "execution_count": 3,
     "metadata": {},
     "output_type": "execute_result"
    }
   ],
   "source": [
    "from omikb.omikb import kb_toolbox\n",
    "\n",
    "kb = kb_toolbox()\n",
    "\n",
    "kb.import_ontology(\"data.ttl\")\n"
   ]
  },
  {
   "cell_type": "markdown",
   "id": "58e3e982-c9c2-444b-8e30-ae175f7c5f46",
   "metadata": {},
   "source": [
    "Now we have sucessfully stored our YAML file in the KB, we want to retrieve it again before running ExecFlow. To do this, we add the following function to our run_workflow.py script in ExecFlow:"
   ]
  },
  {
   "cell_type": "code",
   "execution_count": 4,
   "id": "d85825ee-203d-4902-a9b7-9be4e3c1c56c",
   "metadata": {},
   "outputs": [
    {
     "name": "stdout",
     "output_type": "stream",
     "text": [
      "token= c04707e0c3fd476a893bbcc3e7fff64a\n",
      "hub user name is owainbeynon\n",
      "Hello owainbeynon: Your access token is obtained: (Showing last 10 digits only) YhJArZfXWw\n",
      "Initialised Knowledge Base and OMI access from the jupyter interface for the user:\n",
      "{\n",
      "  \"sub\": \"c71348a7-d9c8-45ab-8021-74dcda578558\",\n",
      "  \"email_verified\": false,\n",
      "  \"name\": \"Owain Beynon\",\n",
      "  \"preferred_username\": \"owainbeynon\",\n",
      "  \"given_name\": \"Owain\",\n",
      "  \"family_name\": \"Beynon\",\n",
      "  \"email\": \"o.beynon@ucl.ac.uk\"\n",
      "}\n",
      "None\n",
      "Unable to connect to the knowledge base.\n"
     ]
    }
   ],
   "source": [
    "from kbyaml.kbyaml import get_yaml\n",
    "\n",
    "get_yaml(output=\"data02.yaml\")"
   ]
  },
  {
   "cell_type": "markdown",
   "id": "edc37e36-a1a5-4006-9d4b-1efbe14ffa37",
   "metadata": {},
   "source": [
    "This function, will retreive the RDF data from the KB and reconstruct the YAML file, which we parse into ExecFlow. The rest of the run_workflow script procedes are normal. "
   ]
  },
  {
   "cell_type": "markdown",
   "id": "e66a5ef2-e3c3-4497-8e79-be5ff73ae43e",
   "metadata": {},
   "source": [
    "Before we run ExecFlow we define the location of our data02.yaml in our workflow.yaml file, like so: "
   ]
  },
  {
   "cell_type": "markdown",
   "id": "afe2d12a-0e05-48b2-a703-56f9862d9354",
   "metadata": {},
   "source": [
    "data:\n",
    " \"$ref\": \"file:///home/jovyan/work/KBYaml/examples/data02.yaml\"\n",
    "steps:"
   ]
  },
  {
   "cell_type": "markdown",
   "id": "cd8a8de0-8a69-4a7e-b7d7-2715807f5a66",
   "metadata": {},
   "source": [
    "If these steps are followed correctly, then ExecFlow will run as normal. "
   ]
  },
  {
   "cell_type": "code",
   "execution_count": null,
   "id": "2f3ee274-ed7b-4c5e-8537-00177ca79950",
   "metadata": {},
   "outputs": [],
   "source": []
  }
 ],
 "metadata": {
  "kernelspec": {
   "display_name": "Python 3 (ipykernel)",
   "language": "python",
   "name": "python3"
  },
  "language_info": {
   "codemirror_mode": {
    "name": "ipython",
    "version": 3
   },
   "file_extension": ".py",
   "mimetype": "text/x-python",
   "name": "python",
   "nbconvert_exporter": "python",
   "pygments_lexer": "ipython3",
   "version": "3.9.13"
  }
 },
 "nbformat": 4,
 "nbformat_minor": 5
}
